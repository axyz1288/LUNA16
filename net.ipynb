{
 "cells": [
  {
   "cell_type": "markdown",
   "metadata": {},
   "source": [
    "# Setting argument"
   ]
  },
  {
   "cell_type": "code",
   "execution_count": 1,
   "metadata": {},
   "outputs": [],
   "source": [
    "import argparse\n",
    "\n",
    "# setting hyperparameters\n",
    "parser = argparse.ArgumentParser(description='net')\n",
    "parser.add_argument('--batchsize', '-b', \n",
    "                    type=int, \n",
    "                    default=32,\n",
    "                    help='Number of images in each mini-batch')\n",
    "parser.add_argument('--epoch', '-e', \n",
    "                    type=int, \n",
    "                    default=200,\n",
    "                    help='Number of epoch over the dataset to train')\n",
    "parser.add_argument('--iter', '-i', \n",
    "                    type=int, \n",
    "                    default=5,\n",
    "                    help='Number of iteration over the dataset to train')\n",
    "parser.add_argument('--use-adasum', \n",
    "                    action='store_true', \n",
    "                    default=False,\n",
    "                    help='use adasum algorithm to do reduction')\n",
    "# create arg object\n",
    "args = parser.parse_args([])\n",
    "\n",
    "# setting state\n",
    "CLASS_NUM = 2"
   ]
  },
  {
   "cell_type": "markdown",
   "metadata": {},
   "source": [
    "# Horovod"
   ]
  },
  {
   "cell_type": "code",
   "execution_count": 2,
   "metadata": {},
   "outputs": [],
   "source": [
    "import horovod.torch as hvd\n",
    "import torch\n",
    "\n",
    "hvd.init()\n",
    "torch.cuda.manual_seed(42)"
   ]
  },
  {
   "cell_type": "markdown",
   "metadata": {},
   "source": [
    "# Load Data of LUNA16"
   ]
  },
  {
   "cell_type": "code",
   "execution_count": 3,
   "metadata": {},
   "outputs": [],
   "source": [
    "from Luna16 import Luna16\n",
    "import torchvision.transforms as transforms\n",
    "\n",
    "transform = transforms.Compose([\n",
    "    transforms.ToTensor(),\n",
    "    transforms.Normalize([0.5], [0.5])\n",
    "])\n",
    "\n",
    "trainset = Luna16(csv_file='../LUNA16/CSVFILES/fake.csv',\n",
    "                  root_dir='../LUNA16/data',\n",
    "                  transform=transform,\n",
    "                  is_segment=True,\n",
    "                  seg_size=[14,29,29])\n",
    "\n",
    "train_sampler = torch.utils.data.distributed.DistributedSampler(trainset, \n",
    "                                                                num_replicas=hvd.size(), \n",
    "                                                                rank=hvd.rank())\n",
    "\n",
    "torch.set_num_threads(1)\n",
    "trainloader = torch.utils.data.DataLoader(trainset, \n",
    "                                          batch_size=args.batchsize, \n",
    "                                          sampler=train_sampler,\n",
    "                                          num_workers=1,\n",
    "                                          pin_memory=True)"
   ]
  },
  {
   "cell_type": "markdown",
   "metadata": {},
   "source": [
    "# To GPU"
   ]
  },
  {
   "cell_type": "code",
   "execution_count": 4,
   "metadata": {},
   "outputs": [],
   "source": [
    "# Assuming that we are on a CUDA machine, this should print a CUDA device:\n",
    "torch.cuda.set_device(hvd.local_rank())\n",
    "torch.cuda.empty_cache()"
   ]
  },
  {
   "cell_type": "markdown",
   "metadata": {},
   "source": [
    "# Build net"
   ]
  },
  {
   "cell_type": "code",
   "execution_count": 5,
   "metadata": {},
   "outputs": [],
   "source": [
    "import torch.nn as nn\n",
    "import torch.nn.functional as F\n",
    "\n",
    "class Net(nn.Module):\n",
    "    def __init__(self):\n",
    "        super(Net, self).__init__()\n",
    "        self.layer1 = nn.Sequential(\n",
    "                        nn.Conv3d(1, 32, kernel_size=(3,3,3), padding=1),\n",
    "                        nn.LeakyReLU(),\n",
    "                        nn.BatchNorm3d(32))\n",
    "        self.layer2 = nn.Sequential(\n",
    "                        nn.Conv3d(32, 64, kernel_size=(3,3,3), padding=1),\n",
    "                        nn.LeakyReLU(),\n",
    "                        nn.BatchNorm3d(64),\n",
    "                        nn.Conv3d(64, 32, kernel_size=(1,3,3), padding=(0,1,1)),\n",
    "                        nn.LeakyReLU(),\n",
    "                        nn.BatchNorm3d(32),\n",
    "                        nn.Conv3d(32, 64, kernel_size=(3,3,3), padding=1),\n",
    "                        nn.LeakyReLU(),\n",
    "                        nn.BatchNorm3d(64))\n",
    "        self.layer3 = nn.Sequential(\n",
    "                        nn.Conv3d(64, 32, kernel_size=(3,3,3), padding=1),\n",
    "                        nn.LeakyReLU(),\n",
    "                        nn.BatchNorm3d(32))\n",
    "        self.layer4 = nn.Sequential(\n",
    "                        nn.Conv3d(32, CLASS_NUM, kernel_size=(3,3,3), padding=1),\n",
    "                        nn.LeakyReLU())\n",
    "\n",
    "        \n",
    "    def forward(self, x):\n",
    "        out = self.layer1(x)\n",
    "        out = self.layer2(out)\n",
    "        out = self.layer3(out)\n",
    "        out = self.layer4(out)\n",
    "        return out\n",
    "    \n",
    "net = Net().cuda()"
   ]
  },
  {
   "cell_type": "code",
   "execution_count": 6,
   "metadata": {},
   "outputs": [],
   "source": [
    "import torch.optim as optim\n",
    "\n",
    "criterion = nn.CrossEntropyLoss()\n",
    "optimizer = optim.Adam(net.parameters(),\n",
    "                       lr=0.005, betas=(0.9, 0.999), eps=1e-08, weight_decay=0, amsgrad=False)"
   ]
  },
  {
   "cell_type": "markdown",
   "metadata": {},
   "source": [
    "# Horovod optimizer"
   ]
  },
  {
   "cell_type": "code",
   "execution_count": 7,
   "metadata": {},
   "outputs": [],
   "source": [
    "# Horovod: broadcast parameters & optimizer state.\n",
    "hvd.broadcast_parameters(net.state_dict(), root_rank=0)\n",
    "hvd.broadcast_optimizer_state(optimizer, root_rank=0)\n",
    "\n",
    "# Horovod: (optional) compression algorithm.\n",
    "compression = hvd.Compression.fp16\n",
    "\n",
    "# Horovod: wrap optimizer with DistributedOptimizer.\n",
    "optimizer = hvd.DistributedOptimizer(optimizer,\n",
    "                                     named_parameters=net.named_parameters(),\n",
    "                                     compression=compression)\n",
    "                                     #op=hvd.Adasum if args.use_adasum else hvd.Average)"
   ]
  },
  {
   "cell_type": "markdown",
   "metadata": {},
   "source": [
    "# Average"
   ]
  },
  {
   "cell_type": "code",
   "execution_count": 8,
   "metadata": {},
   "outputs": [],
   "source": [
    "def metric_average(val, name):\n",
    "    tensor = torch.tensor(val)\n",
    "    avg_tensor = hvd.allreduce(tensor, name=name)\n",
    "    return avg_tensor.item()"
   ]
  },
  {
   "cell_type": "code",
   "execution_count": null,
   "metadata": {},
   "outputs": [],
   "source": [
    "if hvd.rank() == 0:\n",
    "    from torch.utils.tensorboard import SummaryWriter\n",
    "    writer = SummaryWriter()"
   ]
  },
  {
   "cell_type": "code",
   "execution_count": 9,
   "metadata": {
    "scrolled": true
   },
   "outputs": [
    {
     "name": "stdout",
     "output_type": "stream",
     "text": [
      "[epoch,  iter]\n",
      "[    1,     1] loss: 0.683\n",
      "[    1,     2] loss: 0.810\n",
      "[    1,     3] loss: 1.067\n",
      "[    1,     4] loss: 0.592\n",
      "[    1,     5] loss: 0.552\n",
      "[    1,     6] loss: 0.420\n",
      "[    1,     7] loss: 0.429\n",
      "[    1,     8] loss: 0.368\n",
      "[    1,     9] loss: 0.316\n",
      "[    1,    10] loss: 0.333\n",
      "[    1,    11] loss: 0.282\n",
      "[    1,    12] loss: 0.282\n",
      "[    1,    13] loss: 0.340\n",
      "[    2,     1] loss: 0.328\n",
      "[    2,     2] loss: 0.433\n",
      "[    2,     3] loss: 0.278\n",
      "[    2,     4] loss: 0.246\n",
      "[    2,     5] loss: 0.380\n",
      "[    2,     6] loss: 0.312\n",
      "[    2,     7] loss: 0.347\n",
      "[    2,     8] loss: 0.236\n",
      "[    2,     9] loss: 0.277\n",
      "[    2,    10] loss: 0.321\n",
      "[    2,    11] loss: 0.228\n",
      "[    2,    12] loss: 0.204\n",
      "[    2,    13] loss: 0.237\n",
      "[    3,     1] loss: 0.242\n",
      "[    3,     2] loss: 0.378\n",
      "[    3,     3] loss: 0.238\n",
      "[    3,     4] loss: 0.237\n",
      "[    3,     5] loss: 0.359\n",
      "[    3,     6] loss: 0.303\n",
      "[    3,     7] loss: 0.343\n",
      "[    3,     8] loss: 0.224\n",
      "[    3,     9] loss: 0.251\n",
      "[    3,    10] loss: 0.301\n",
      "[    3,    11] loss: 0.195\n",
      "[    3,    12] loss: 0.184\n",
      "[    3,    13] loss: 0.202\n",
      "[    4,     1] loss: 0.201\n",
      "[    4,     2] loss: 0.357\n",
      "[    4,     3] loss: 0.228\n",
      "[    4,     4] loss: 0.227\n",
      "[    4,     5] loss: 0.304\n",
      "[    4,     6] loss: 0.278\n",
      "[    4,     7] loss: 0.290\n",
      "[    4,     8] loss: 0.209\n",
      "[    4,     9] loss: 0.234\n",
      "[    4,    10] loss: 0.247\n",
      "[    4,    11] loss: 0.156\n",
      "[    4,    12] loss: 0.178\n",
      "[    4,    13] loss: 0.150\n",
      "[    5,     1] loss: 0.177\n",
      "[    5,     2] loss: 0.289\n",
      "[    5,     3] loss: 0.215\n",
      "[    5,     4] loss: 0.201\n"
     ]
    },
    {
     "ename": "KeyboardInterrupt",
     "evalue": "",
     "output_type": "error",
     "traceback": [
      "\u001b[0;31m---------------------------------------------------------------------------\u001b[0m",
      "\u001b[0;31mKeyboardInterrupt\u001b[0m                         Traceback (most recent call last)",
      "\u001b[0;32m<ipython-input-9-4532062bcf5a>\u001b[0m in \u001b[0;36m<module>\u001b[0;34m\u001b[0m\n\u001b[1;32m     10\u001b[0m     \u001b[0mrunning_loss\u001b[0m \u001b[0;34m=\u001b[0m \u001b[0;36m0.0\u001b[0m\u001b[0;34m\u001b[0m\u001b[0;34m\u001b[0m\u001b[0m\n\u001b[1;32m     11\u001b[0m \u001b[0;34m\u001b[0m\u001b[0m\n\u001b[0;32m---> 12\u001b[0;31m     \u001b[0;32mfor\u001b[0m \u001b[0mi\u001b[0m\u001b[0;34m,\u001b[0m \u001b[0mdata\u001b[0m \u001b[0;32min\u001b[0m \u001b[0menumerate\u001b[0m\u001b[0;34m(\u001b[0m\u001b[0mtrainloader\u001b[0m\u001b[0;34m)\u001b[0m\u001b[0;34m:\u001b[0m\u001b[0;34m\u001b[0m\u001b[0;34m\u001b[0m\u001b[0m\n\u001b[0m\u001b[1;32m     13\u001b[0m         \u001b[0;31m# [data, label][batch][channel][depth][h][w]\u001b[0m\u001b[0;34m\u001b[0m\u001b[0;34m\u001b[0m\u001b[0;34m\u001b[0m\u001b[0m\n\u001b[1;32m     14\u001b[0m         \u001b[0minputs\u001b[0m\u001b[0;34m,\u001b[0m \u001b[0mlabels\u001b[0m \u001b[0;34m=\u001b[0m \u001b[0mdata\u001b[0m\u001b[0;34m[\u001b[0m\u001b[0;34m'data'\u001b[0m\u001b[0;34m]\u001b[0m\u001b[0;34m.\u001b[0m\u001b[0mcuda\u001b[0m\u001b[0;34m(\u001b[0m\u001b[0;34m)\u001b[0m\u001b[0;34m,\u001b[0m \u001b[0mdata\u001b[0m\u001b[0;34m[\u001b[0m\u001b[0;34m'label'\u001b[0m\u001b[0;34m]\u001b[0m\u001b[0;34m.\u001b[0m\u001b[0mcuda\u001b[0m\u001b[0;34m(\u001b[0m\u001b[0;34m)\u001b[0m\u001b[0;34m\u001b[0m\u001b[0;34m\u001b[0m\u001b[0m\n",
      "\u001b[0;32m/usr/local/lib/python3.7/dist-packages/torch/utils/data/dataloader.py\u001b[0m in \u001b[0;36m__next__\u001b[0;34m(self)\u001b[0m\n\u001b[1;32m    802\u001b[0m \u001b[0;34m\u001b[0m\u001b[0m\n\u001b[1;32m    803\u001b[0m             \u001b[0;32massert\u001b[0m \u001b[0;32mnot\u001b[0m \u001b[0mself\u001b[0m\u001b[0;34m.\u001b[0m\u001b[0m_shutdown\u001b[0m \u001b[0;32mand\u001b[0m \u001b[0mself\u001b[0m\u001b[0;34m.\u001b[0m\u001b[0m_tasks_outstanding\u001b[0m \u001b[0;34m>\u001b[0m \u001b[0;36m0\u001b[0m\u001b[0;34m\u001b[0m\u001b[0;34m\u001b[0m\u001b[0m\n\u001b[0;32m--> 804\u001b[0;31m             \u001b[0midx\u001b[0m\u001b[0;34m,\u001b[0m \u001b[0mdata\u001b[0m \u001b[0;34m=\u001b[0m \u001b[0mself\u001b[0m\u001b[0;34m.\u001b[0m\u001b[0m_get_data\u001b[0m\u001b[0;34m(\u001b[0m\u001b[0;34m)\u001b[0m\u001b[0;34m\u001b[0m\u001b[0;34m\u001b[0m\u001b[0m\n\u001b[0m\u001b[1;32m    805\u001b[0m             \u001b[0mself\u001b[0m\u001b[0;34m.\u001b[0m\u001b[0m_tasks_outstanding\u001b[0m \u001b[0;34m-=\u001b[0m \u001b[0;36m1\u001b[0m\u001b[0;34m\u001b[0m\u001b[0;34m\u001b[0m\u001b[0m\n\u001b[1;32m    806\u001b[0m \u001b[0;34m\u001b[0m\u001b[0m\n",
      "\u001b[0;32m/usr/local/lib/python3.7/dist-packages/torch/utils/data/dataloader.py\u001b[0m in \u001b[0;36m_get_data\u001b[0;34m(self)\u001b[0m\n\u001b[1;32m    759\u001b[0m         \u001b[0;32melif\u001b[0m \u001b[0mself\u001b[0m\u001b[0;34m.\u001b[0m\u001b[0m_pin_memory\u001b[0m\u001b[0;34m:\u001b[0m\u001b[0;34m\u001b[0m\u001b[0;34m\u001b[0m\u001b[0m\n\u001b[1;32m    760\u001b[0m             \u001b[0;32mwhile\u001b[0m \u001b[0mself\u001b[0m\u001b[0;34m.\u001b[0m\u001b[0m_pin_memory_thread\u001b[0m\u001b[0;34m.\u001b[0m\u001b[0mis_alive\u001b[0m\u001b[0;34m(\u001b[0m\u001b[0;34m)\u001b[0m\u001b[0;34m:\u001b[0m\u001b[0;34m\u001b[0m\u001b[0;34m\u001b[0m\u001b[0m\n\u001b[0;32m--> 761\u001b[0;31m                 \u001b[0msuccess\u001b[0m\u001b[0;34m,\u001b[0m \u001b[0mdata\u001b[0m \u001b[0;34m=\u001b[0m \u001b[0mself\u001b[0m\u001b[0;34m.\u001b[0m\u001b[0m_try_get_data\u001b[0m\u001b[0;34m(\u001b[0m\u001b[0;34m)\u001b[0m\u001b[0;34m\u001b[0m\u001b[0;34m\u001b[0m\u001b[0m\n\u001b[0m\u001b[1;32m    762\u001b[0m                 \u001b[0;32mif\u001b[0m \u001b[0msuccess\u001b[0m\u001b[0;34m:\u001b[0m\u001b[0;34m\u001b[0m\u001b[0;34m\u001b[0m\u001b[0m\n\u001b[1;32m    763\u001b[0m                     \u001b[0;32mreturn\u001b[0m \u001b[0mdata\u001b[0m\u001b[0;34m\u001b[0m\u001b[0;34m\u001b[0m\u001b[0m\n",
      "\u001b[0;32m/usr/local/lib/python3.7/dist-packages/torch/utils/data/dataloader.py\u001b[0m in \u001b[0;36m_try_get_data\u001b[0;34m(self, timeout)\u001b[0m\n\u001b[1;32m    722\u001b[0m         \u001b[0;31m#   (bool: whether successfully get data, any: data if successful else None)\u001b[0m\u001b[0;34m\u001b[0m\u001b[0;34m\u001b[0m\u001b[0;34m\u001b[0m\u001b[0m\n\u001b[1;32m    723\u001b[0m         \u001b[0;32mtry\u001b[0m\u001b[0;34m:\u001b[0m\u001b[0;34m\u001b[0m\u001b[0;34m\u001b[0m\u001b[0m\n\u001b[0;32m--> 724\u001b[0;31m             \u001b[0mdata\u001b[0m \u001b[0;34m=\u001b[0m \u001b[0mself\u001b[0m\u001b[0;34m.\u001b[0m\u001b[0m_data_queue\u001b[0m\u001b[0;34m.\u001b[0m\u001b[0mget\u001b[0m\u001b[0;34m(\u001b[0m\u001b[0mtimeout\u001b[0m\u001b[0;34m=\u001b[0m\u001b[0mtimeout\u001b[0m\u001b[0;34m)\u001b[0m\u001b[0;34m\u001b[0m\u001b[0;34m\u001b[0m\u001b[0m\n\u001b[0m\u001b[1;32m    725\u001b[0m             \u001b[0;32mreturn\u001b[0m \u001b[0;34m(\u001b[0m\u001b[0;32mTrue\u001b[0m\u001b[0;34m,\u001b[0m \u001b[0mdata\u001b[0m\u001b[0;34m)\u001b[0m\u001b[0;34m\u001b[0m\u001b[0;34m\u001b[0m\u001b[0m\n\u001b[1;32m    726\u001b[0m         \u001b[0;32mexcept\u001b[0m \u001b[0mException\u001b[0m \u001b[0;32mas\u001b[0m \u001b[0me\u001b[0m\u001b[0;34m:\u001b[0m\u001b[0;34m\u001b[0m\u001b[0;34m\u001b[0m\u001b[0m\n",
      "\u001b[0;32m/usr/lib/python3.7/queue.py\u001b[0m in \u001b[0;36mget\u001b[0;34m(self, block, timeout)\u001b[0m\n\u001b[1;32m    177\u001b[0m                     \u001b[0;32mif\u001b[0m \u001b[0mremaining\u001b[0m \u001b[0;34m<=\u001b[0m \u001b[0;36m0.0\u001b[0m\u001b[0;34m:\u001b[0m\u001b[0;34m\u001b[0m\u001b[0;34m\u001b[0m\u001b[0m\n\u001b[1;32m    178\u001b[0m                         \u001b[0;32mraise\u001b[0m \u001b[0mEmpty\u001b[0m\u001b[0;34m\u001b[0m\u001b[0;34m\u001b[0m\u001b[0m\n\u001b[0;32m--> 179\u001b[0;31m                     \u001b[0mself\u001b[0m\u001b[0;34m.\u001b[0m\u001b[0mnot_empty\u001b[0m\u001b[0;34m.\u001b[0m\u001b[0mwait\u001b[0m\u001b[0;34m(\u001b[0m\u001b[0mremaining\u001b[0m\u001b[0;34m)\u001b[0m\u001b[0;34m\u001b[0m\u001b[0;34m\u001b[0m\u001b[0m\n\u001b[0m\u001b[1;32m    180\u001b[0m             \u001b[0mitem\u001b[0m \u001b[0;34m=\u001b[0m \u001b[0mself\u001b[0m\u001b[0;34m.\u001b[0m\u001b[0m_get\u001b[0m\u001b[0;34m(\u001b[0m\u001b[0;34m)\u001b[0m\u001b[0;34m\u001b[0m\u001b[0;34m\u001b[0m\u001b[0m\n\u001b[1;32m    181\u001b[0m             \u001b[0mself\u001b[0m\u001b[0;34m.\u001b[0m\u001b[0mnot_full\u001b[0m\u001b[0;34m.\u001b[0m\u001b[0mnotify\u001b[0m\u001b[0;34m(\u001b[0m\u001b[0;34m)\u001b[0m\u001b[0;34m\u001b[0m\u001b[0;34m\u001b[0m\u001b[0m\n",
      "\u001b[0;32m/usr/lib/python3.7/threading.py\u001b[0m in \u001b[0;36mwait\u001b[0;34m(self, timeout)\u001b[0m\n\u001b[1;32m    298\u001b[0m             \u001b[0;32melse\u001b[0m\u001b[0;34m:\u001b[0m\u001b[0;34m\u001b[0m\u001b[0;34m\u001b[0m\u001b[0m\n\u001b[1;32m    299\u001b[0m                 \u001b[0;32mif\u001b[0m \u001b[0mtimeout\u001b[0m \u001b[0;34m>\u001b[0m \u001b[0;36m0\u001b[0m\u001b[0;34m:\u001b[0m\u001b[0;34m\u001b[0m\u001b[0;34m\u001b[0m\u001b[0m\n\u001b[0;32m--> 300\u001b[0;31m                     \u001b[0mgotit\u001b[0m \u001b[0;34m=\u001b[0m \u001b[0mwaiter\u001b[0m\u001b[0;34m.\u001b[0m\u001b[0macquire\u001b[0m\u001b[0;34m(\u001b[0m\u001b[0;32mTrue\u001b[0m\u001b[0;34m,\u001b[0m \u001b[0mtimeout\u001b[0m\u001b[0;34m)\u001b[0m\u001b[0;34m\u001b[0m\u001b[0;34m\u001b[0m\u001b[0m\n\u001b[0m\u001b[1;32m    301\u001b[0m                 \u001b[0;32melse\u001b[0m\u001b[0;34m:\u001b[0m\u001b[0;34m\u001b[0m\u001b[0;34m\u001b[0m\u001b[0m\n\u001b[1;32m    302\u001b[0m                     \u001b[0mgotit\u001b[0m \u001b[0;34m=\u001b[0m \u001b[0mwaiter\u001b[0m\u001b[0;34m.\u001b[0m\u001b[0macquire\u001b[0m\u001b[0;34m(\u001b[0m\u001b[0;32mFalse\u001b[0m\u001b[0;34m)\u001b[0m\u001b[0;34m\u001b[0m\u001b[0;34m\u001b[0m\u001b[0m\n",
      "\u001b[0;31mKeyboardInterrupt\u001b[0m: "
     ]
    }
   ],
   "source": [
    "import Accuracy\n",
    "import time\n",
    "\n",
    "s_time = time.time()\n",
    "threshold = 0.7\n",
    "print('[epoch,  iter]')\n",
    "for epoch in range(args.epoch):  # loop over the dataset multiple times\n",
    "    running_loss = 0.0\n",
    "    TP = 0.0\n",
    "    FP = 0.0\n",
    "    TN = 0.0\n",
    "    FN = 0.0\n",
    "\n",
    "    for i, data in enumerate(trainloader):\n",
    "        # [data, label][batch][channel][depth][h][w]\n",
    "        inputs, labels = data['data'].cuda(), data['label'].cuda()\n",
    "        # zero the parameter gradients\n",
    "        optimizer.zero_grad()\n",
    "        # forward + backward + optimize\n",
    "        outputs = net(inputs)\n",
    "        loss = criterion(outputs, labels)\n",
    "        loss.backward()\n",
    "        optimizer.step()\n",
    "\n",
    "        # print statistics\n",
    "        running_loss += loss.item()\n",
    "        if(i % args.iter == args.iter-1):    # print every arg.batchsize mini-batches\n",
    "            print('[%5d, %5d] loss: %.3f' %\n",
    "                  (epoch+1, i+1, running_loss / args.iter))\n",
    "            if hvd.rank() == 0:\n",
    "                writer.add_scalar('Loss', running_loss / args.iter, epoch*args.iter + (i+1)/args.iter)\n",
    "            running_loss = 0.0\n",
    "        \n",
    "        # Accuracy\n",
    "        for batch_idx in range(outputs.shape[0]):\n",
    "            label = labels[batch_idx].cpu()\n",
    "            prediction = F.softmax(outputs[batch_idx], dim=0).cpu()\n",
    "            tp, fp, tn, fn = Accuracy.eval(prediction, label, threshold)\n",
    "            TP += tp; FP += fp; TN += tn; FN += fn\n",
    "\n",
    "    sensitivity = TP/(TP+FN) if (TP+FN)!=0 else 0\n",
    "    precision = TP/(TP+FP) if (TP+FP)!=0 else 0\n",
    "    fpr = FP/(FP+TN) if (FP+TN)!=0 else 0\n",
    "    sensitivity = metric_average(sensitivity, 'Sensitivity')\n",
    "    precision = metric_average(precision, 'Precision')\n",
    "    fpr = metric_average(fpr, 'False Positive Rate')\n",
    "    if hvd.rank() == 0:\n",
    "        print('-----------------------------------------------')\n",
    "        print('Sensitivity: {:3.2%}'.format(sensitivity))\n",
    "        print('Precision: {:3.2%}'.format(precision))\n",
    "        print('False Positive Rate: {:3.2%}'.format(fpr))\n",
    "        print('-----------------------------------------------')\n",
    "        writer.add_scalar('Sensitivity', sensitivity*100, epoch)\n",
    "        writer.add_scalar('Precision', precision*100, epoch)\n",
    "        writer.add_scalar('False Positive Rate', fpr*100, epoch)\n",
    "        if(epoch % 50 == 50-1):\n",
    "            torch.save(net.state_dict(), 'net_parameters.pkl')\n",
    "\n",
    "print('Total time: {}s'.format(time.time()-s_time))\n",
    "print('Finished Training')"
   ]
  },
  {
   "cell_type": "code",
   "execution_count": null,
   "metadata": {},
   "outputs": [],
   "source": [
    "torch.save(net.state_dict(), 'net_parameters.pkl')"
   ]
  }
 ],
 "metadata": {
  "kernelspec": {
   "display_name": "Python 3",
   "language": "python",
   "name": "python3"
  },
  "language_info": {
   "codemirror_mode": {
    "name": "ipython",
    "version": 3
   },
   "file_extension": ".py",
   "mimetype": "text/x-python",
   "name": "python",
   "nbconvert_exporter": "python",
   "pygments_lexer": "ipython3",
   "version": "3.7.6"
  }
 },
 "nbformat": 4,
 "nbformat_minor": 2
}
