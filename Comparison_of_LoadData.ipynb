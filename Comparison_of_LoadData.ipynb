{
 "cells": [
  {
   "cell_type": "code",
   "execution_count": null,
   "metadata": {
    "scrolled": true
   },
   "outputs": [],
   "source": [
    "from Luna16 import Luna16\n",
    "import torch\n",
    "import torchvision.transforms as transforms\n",
    "import time\n",
    "import matplotlib.pyplot as plt\n",
    "\n",
    "transform = transforms.Compose([transforms.ToTensor()])\n",
    "color_list = ['b' , 'g', 'r', 'c', 'm', 'y', 'k', 'w']\n",
    "num_workers_list = [3, 6, 12]\n",
    "legend = ['num_workers = 3', 'num_workers = 6', 'num_workers = 12','num_workers = 15', 'num_workers =24']\n",
    "\n",
    "for i in range(len(num_workers_list)):\n",
    "    dataloader_time_list = []\n",
    "    for j in range(1,25):\n",
    "        time_s = time.time()\n",
    "        trainset = Luna16(csv_file='../test_luna16/LUNA16/CSVFILES/annotations.csv',\n",
    "                          root_dir='../test_luna16/LUNA16/data',\n",
    "                          transform=transform,\n",
    "                          is_segment=True)\n",
    "        trainloader = torch.utils.data.DataLoader(trainset, \n",
    "                                                  batch_size=j,\n",
    "                                                  shuffle=True, \n",
    "                                                  num_workers=num_workers_list[i])\n",
    "        for k, data in enumerate(trainloader):\n",
    "            pass\n",
    "        dataloader_time_list.append(time.time()-time_s)       \n",
    "    plt.plot(range(0,25), dataloader_time_list, label=legend[i], color=color_list[i])\n",
    "\n",
    "plt.legend()\n",
    "plt.xlabel('batch_size')\n",
    "plt.ylabel('time (s)')\n",
    "plt.show()"
   ]
  }
 ],
 "metadata": {
  "kernelspec": {
   "display_name": "Python 2",
   "language": "python",
   "name": "python2"
  },
  "language_info": {
   "codemirror_mode": {
    "name": "ipython",
    "version": 2
   },
   "file_extension": ".py",
   "mimetype": "text/x-python",
   "name": "python",
   "nbconvert_exporter": "python",
   "pygments_lexer": "ipython2",
   "version": "2.7.12"
  }
 },
 "nbformat": 4,
 "nbformat_minor": 2
}
