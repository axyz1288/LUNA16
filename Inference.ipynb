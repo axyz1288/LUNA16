{
 "cells": [
  {
   "cell_type": "markdown",
   "metadata": {},
   "source": [
    "# Setting argument"
   ]
  },
  {
   "cell_type": "code",
   "execution_count": 1,
   "metadata": {},
   "outputs": [],
   "source": [
    "import argparse\n",
    "\n",
    "# setting hyperparameters\n",
    "parser = argparse.ArgumentParser(description='net')\n",
    "parser.add_argument('--batchsize', '-b', \n",
    "                    type=int, \n",
    "                    default=10,\n",
    "                    help='Number of images in each mini-batch')\n",
    "parser.add_argument('--gpu', '-g', \n",
    "                    type=int, \n",
    "                    default=0,\n",
    "                    help='GPU ID (-1 indicates CPU)')#Set the initial matrix\n",
    "# create arg object\n",
    "args = parser.parse_args([])\n",
    "\n",
    "# setting state\n",
    "CLASS_NUM = 2"
   ]
  },
  {
   "cell_type": "markdown",
   "metadata": {},
   "source": [
    "# Load Data of LUNA16"
   ]
  },
  {
   "cell_type": "code",
   "execution_count": 2,
   "metadata": {},
   "outputs": [],
   "source": [
    "from Luna16 import Luna16\n",
    "import torch\n",
    "import torchvision.transforms as transforms\n",
    "\n",
    "transform = transforms.Compose([\n",
    "#     transforms.ToTensor(),\n",
    "#     transforms.ToPILImage(),\n",
    "#     transforms.RandomCrop(256),\n",
    "    transforms.ToTensor()\n",
    "])\n",
    "\n",
    "testset = Luna16(csv_file='../LUNA16/CSVFILES/annotations.csv',\n",
    "                 root_dir='../LUNA16/data',\n",
    "                 transform=transform,\n",
    "                 is_segment=True,\n",
    "                 seg_size=[10,50,50])\n",
    "\n",
    "testloader = torch.utils.data.DataLoader(testset, \n",
    "                                         batch_size=args.batchsize,\n",
    "                                         shuffle=True, \n",
    "                                         num_workers=6)"
   ]
  },
  {
   "cell_type": "markdown",
   "metadata": {},
   "source": [
    "# To GPU"
   ]
  },
  {
   "cell_type": "code",
   "execution_count": 3,
   "metadata": {},
   "outputs": [
    {
     "name": "stdout",
     "output_type": "stream",
     "text": [
      "cuda:0\n"
     ]
    }
   ],
   "source": [
    "if(args.gpu == -1):\n",
    "    device = torch.device('cpu')\n",
    "else:\n",
    "    device = torch.device('cuda:'+str(args.gpu) if torch.cuda.is_available() else \"cpu\")\n",
    "\n",
    "# Assuming that we are on a CUDA machine, this should print a CUDA device:\n",
    "torch.cuda.empty_cache()\n",
    "print(device)"
   ]
  },
  {
   "cell_type": "markdown",
   "metadata": {},
   "source": [
    "# Build net"
   ]
  },
  {
   "cell_type": "code",
   "execution_count": 4,
   "metadata": {},
   "outputs": [
    {
     "data": {
      "text/plain": [
       "<All keys matched successfully>"
      ]
     },
     "execution_count": 4,
     "metadata": {},
     "output_type": "execute_result"
    }
   ],
   "source": [
    "import torch.nn as nn\n",
    "import torch.nn.functional as F\n",
    "from pytorch_analyzer import Pytorch_Analyzer\n",
    "\n",
    "class Net(nn.Module):\n",
    "    def __init__(self):\n",
    "        super(Net, self).__init__()\n",
    "        self.layer1 = nn.Sequential(\n",
    "                        nn.Conv3d(1, 32, kernel_size=(3,3,3), padding=1),\n",
    "                        nn.LeakyReLU(),\n",
    "                        nn.BatchNorm3d(32))\n",
    "        self.layer2 = nn.Sequential(\n",
    "                        nn.Conv3d(32, 128, kernel_size=(3,3,3), padding=1),\n",
    "                        nn.LeakyReLU(),\n",
    "                        nn.Conv3d(128, 64, kernel_size=(1,1,1), padding=(0,1,1)),\n",
    "                        nn.LeakyReLU(),\n",
    "                        nn.BatchNorm3d(32),\n",
    "                        nn.Conv3d(32, 64, kernel_size=(3,3,3), padding=1),\n",
    "                        nn.LeakyReLU(),\n",
    "                        nn.BatchNorm3d(64))\n",
    "        self.layer3 = nn.Sequential(\n",
    "                        nn.Conv3d(64, 32, kernel_size=(3,3,3), padding=1),\n",
    "                        nn.LeakyReLU(),\n",
    "                        nn.BatchNorm3d(32))\n",
    "        self.layer4 = nn.Sequential(\n",
    "                        nn.Conv3d(32, CLASS_NUM, kernel_size=(3,3,3), padding=1),\n",
    "                        nn.LeakyReLU(),\n",
    "                        nn.Softmax(dim=1))\n",
    "\n",
    "        \n",
    "    def forward(self, x):\n",
    "        out1 = self.layer1(x)\n",
    "        out = self.layer2(out1)\n",
    "        out = self.layer3(out)\n",
    "        out = out + out1\n",
    "        out = self.layer4(out)\n",
    "        return out\n",
    "    \n",
    "net = Net().cuda()\n",
    "net.eval()\n",
    "net.load_state_dict(torch.load('net_parameters.pkl'))"
   ]
  },
  {
   "cell_type": "markdown",
   "metadata": {},
   "source": [
    "# Inference"
   ]
  },
  {
   "cell_type": "code",
   "execution_count": 5,
   "metadata": {
    "scrolled": true
   },
   "outputs": [
    {
     "name": "stdout",
     "output_type": "stream",
     "text": [
      "Finished Inference\n"
     ]
    }
   ],
   "source": [
    "import Accuracy\n",
    "threshold = 0.6\n",
    "TP = 0.0\n",
    "FP = 0.0\n",
    "TN = 0.0\n",
    "FN = 0.0\n",
    "\n",
    "for i, data in enumerate(testloader):\n",
    "    # [person][data, label][channel][depth][H][W]\n",
    "    inputs, labels = data['data'].cuda(), data['label']\n",
    "    # forward\n",
    "    outputs = net(inputs)\n",
    "    # Accuracy\n",
    "    for batch_idx in range(outputs.shape[0]):\n",
    "        label = labels[batch_idx]\n",
    "        prediction =  outputs[batch_idx].cpu()\n",
    "        tp, fp, tn, fn = Accuracy.eval(prediction, label, threshold)\n",
    "        TP += tp; FP += fp; TN += tn; FN += fn\n",
    "    break\n",
    "        \n",
    "sensitivity = TP/(TP+FN) if (TP+FN)!=0 else 0\n",
    "precision = TP/(TP+FP) if (TP+FP)!=0 else 0\n",
    "fpr = FP/(FP+TN) if (FP+TN)!=0 else 0\n",
    "\n",
    "print('Finished Inference')"
   ]
  },
  {
   "cell_type": "markdown",
   "metadata": {},
   "source": [
    "# Accuracy"
   ]
  },
  {
   "cell_type": "code",
   "execution_count": 6,
   "metadata": {},
   "outputs": [
    {
     "data": {
      "text/html": [
       "<div>\n",
       "<style scoped>\n",
       "    .dataframe tbody tr th:only-of-type {\n",
       "        vertical-align: middle;\n",
       "    }\n",
       "\n",
       "    .dataframe tbody tr th {\n",
       "        vertical-align: top;\n",
       "    }\n",
       "\n",
       "    .dataframe thead th {\n",
       "        text-align: right;\n",
       "    }\n",
       "</style>\n",
       "<table border=\"1\" class=\"dataframe\">\n",
       "  <thead>\n",
       "    <tr style=\"text-align: right;\">\n",
       "      <th></th>\n",
       "      <th>True Negative Number:</th>\n",
       "      <th>False Positive Number</th>\n",
       "      <th>True Positive Number</th>\n",
       "      <th>False Negative Number</th>\n",
       "    </tr>\n",
       "  </thead>\n",
       "  <tbody>\n",
       "    <tr>\n",
       "      <th>0</th>\n",
       "      <td>16.0</td>\n",
       "      <td>34.0</td>\n",
       "      <td>27.0</td>\n",
       "      <td>23.0</td>\n",
       "    </tr>\n",
       "  </tbody>\n",
       "</table>\n",
       "</div>"
      ],
      "text/plain": [
       "   True Negative Number:  False Positive Number  True Positive Number  \\\n",
       "0                   16.0                   34.0                  27.0   \n",
       "\n",
       "   False Negative Number  \n",
       "0                   23.0  "
      ]
     },
     "metadata": {},
     "output_type": "display_data"
    },
    {
     "data": {
      "text/html": [
       "<div>\n",
       "<style scoped>\n",
       "    .dataframe tbody tr th:only-of-type {\n",
       "        vertical-align: middle;\n",
       "    }\n",
       "\n",
       "    .dataframe tbody tr th {\n",
       "        vertical-align: top;\n",
       "    }\n",
       "\n",
       "    .dataframe thead th {\n",
       "        text-align: right;\n",
       "    }\n",
       "</style>\n",
       "<table border=\"1\" class=\"dataframe\">\n",
       "  <thead>\n",
       "    <tr style=\"text-align: right;\">\n",
       "      <th></th>\n",
       "      <th>Sensitivity</th>\n",
       "      <th>Precision</th>\n",
       "      <th>False Positive Rate</th>\n",
       "    </tr>\n",
       "  </thead>\n",
       "  <tbody>\n",
       "    <tr>\n",
       "      <th>0</th>\n",
       "      <td>54.0</td>\n",
       "      <td>44.262295</td>\n",
       "      <td>68.0</td>\n",
       "    </tr>\n",
       "  </tbody>\n",
       "</table>\n",
       "</div>"
      ],
      "text/plain": [
       "   Sensitivity  Precision  False Positive Rate\n",
       "0         54.0  44.262295                 68.0"
      ]
     },
     "metadata": {},
     "output_type": "display_data"
    }
   ],
   "source": [
    "import pandas as pd\n",
    "from IPython import display\n",
    "\n",
    "display.display(\n",
    "    pd.DataFrame({\n",
    "        'True Negative Number:': [TN],\n",
    "        'False Positive Number': [FP],\n",
    "        'True Positive Number': [TP],\n",
    "        'False Negative Number': [FN]\n",
    "}))\n",
    "\n",
    "display.display(\n",
    "    pd.DataFrame({\n",
    "        'Sensitivity': [sensitivity*100.],\n",
    "        'Precision': [precision*100.],\n",
    "        'False Positive Rate': [fpr*100.]\n",
    "}))"
   ]
  },
  {
   "cell_type": "markdown",
   "metadata": {},
   "source": [
    "# Result"
   ]
  },
  {
   "cell_type": "code",
   "execution_count": 8,
   "metadata": {},
   "outputs": [
    {
     "data": {
      "image/png": "[encoded data removed]",
      "text/plain": [
       "<Figure size 432x288 with 1 Axes>"
      ]
     },
     "metadata": {
      "needs_background": "light"
     },
     "output_type": "display_data"
    },
    {
     "name": "stdout",
     "output_type": "stream",
     "text": [
      "tensor([[0, 0, 0,  ..., 0, 0, 0],\n",
      "        [0, 0, 0,  ..., 0, 0, 0],\n",
      "        [0, 0, 0,  ..., 0, 0, 0],\n",
      "        ...,\n",
      "        [0, 0, 0,  ..., 0, 0, 0],\n",
      "        [0, 0, 0,  ..., 0, 0, 0],\n",
      "        [0, 0, 0,  ..., 0, 0, 0]])\n"
     ]
    },
    {
     "data": {
      "image/png": "[encoded data removed]",
      "text/plain": [
       "<Figure size 432x288 with 1 Axes>"
      ]
     },
     "metadata": {
      "needs_background": "light"
     },
     "output_type": "display_data"
    },
    {
     "name": "stdout",
     "output_type": "stream",
     "text": [
      "tensor([[  0,   0,   0,  ...,   0, 255, 255],\n",
      "        [255,   0,   0,  ..., 255, 255, 255],\n",
      "        [255,   0, 255,  ..., 255, 255, 255],\n",
      "        ...,\n",
      "        [255,   0, 255,  ..., 255, 255, 255],\n",
      "        [255,   0,   0,  ...,   0, 255, 255],\n",
      "        [255, 255, 255,  ..., 255, 255, 255]], device='cuda:0')\n"
     ]
    },
    {
     "data": {
      "image/png": "[encoded data removed]",
      "text/plain": [
       "<Figure size 432x288 with 1 Axes>"
      ]
     },
     "metadata": {
      "needs_background": "light"
     },
     "output_type": "display_data"
    }
   ],
   "source": [
    "import matplotlib.pyplot as plt\n",
    "\n",
    "batch = 5\n",
    "depth = 8\n",
    "\n",
    "img = inputs[batch][0][depth]\n",
    "img = img.cpu()\n",
    "plt.imshow(img, cmap='gray')\n",
    "plt.show()\n",
    "\n",
    "img = labels[batch][depth]\n",
    "img = img.cpu()\n",
    "print(img)\n",
    "plt.imshow(img, cmap='gray')\n",
    "plt.show()\n",
    "\n",
    "img = outputs[batch][1][depth]\n",
    "img = (img > threshold) * 255\n",
    "print(img)\n",
    "img = img.cpu()\n",
    "plt.imshow(img, cmap='gray')\n",
    "plt.show()"
   ]
  },
  {
   "cell_type": "markdown",
   "metadata": {},
   "source": [
    "# FROC"
   ]
  },
  {
   "cell_type": "markdown",
   "metadata": {
    "scrolled": true
   },
   "source": [
    "import numpy as np\n",
    "label = labels[batch].to(torch.device('cpu'))\n",
    "prediction = outputs[batch][0].to(torch.device('cpu'))\n",
    "\n",
    "Sensitivity_list = []\n",
    "False_Positive_Rate_list = []\n",
    "\n",
    "for threshold in np.arange(3.8, 5, 0.001):\n",
    "    TP, FP, TN, FN = Accuracy.eval(prediction, label, threshold)\n",
    "    Sensitivity_list.append(TP/(TP+FN))\n",
    "    False_Positive_Rate_list.append(FP/(FP+TN))"
   ]
  },
  {
   "cell_type": "markdown",
   "metadata": {},
   "source": [
    "plt.plot(False_Positive_Rate_list, Sensitivity_list)\n",
    "plt.title('FROC')\n",
    "plt.xlabel('FPs')\n",
    "plt.ylabel('Sensitivity')\n",
    "plt.show()"
   ]
  }
 ],
 "metadata": {
  "kernelspec": {
   "display_name": "Python 3",
   "language": "python",
   "name": "python3"
  },
  "language_info": {
   "codemirror_mode": {
    "name": "ipython",
    "version": 3
   },
   "file_extension": ".py",
   "mimetype": "text/x-python",
   "name": "python",
   "nbconvert_exporter": "python",
   "pygments_lexer": "ipython3",
   "version": "3.7.6"
  }
 },
 "nbformat": 4,
 "nbformat_minor": 2
}
